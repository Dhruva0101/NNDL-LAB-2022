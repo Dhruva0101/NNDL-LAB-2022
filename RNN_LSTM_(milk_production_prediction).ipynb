{
  "nbformat": 4,
  "nbformat_minor": 0,
  "metadata": {
    "colab": {
      "name": "RNN_LSTM_(milk_production_prediction).ipynb",
      "provenance": [],
      "authorship_tag": "ABX9TyNgtwQzdUwutofe5ow114YO",
      "include_colab_link": true
    },
    "kernelspec": {
      "name": "python3",
      "display_name": "Python 3"
    },
    "language_info": {
      "name": "python"
    }
  },
  "cells": [
    {
      "cell_type": "markdown",
      "metadata": {
        "id": "view-in-github",
        "colab_type": "text"
      },
      "source": [
        "<a href=\"https://colab.research.google.com/github/Dhruva0101/NNDL-LAB-2022/blob/main/RNN_LSTM_(milk_production_prediction).ipynb\" target=\"_parent\"><img src=\"https://colab.research.google.com/assets/colab-badge.svg\" alt=\"Open In Colab\"/></a>"
      ]
    },
    {
      "cell_type": "markdown",
      "source": [
        "**RNN Model using LSTM to prediction milk production.**"
      ],
      "metadata": {
        "id": "1ZczXa8tRBra"
      }
    },
    {
      "cell_type": "code",
      "execution_count": 1,
      "metadata": {
        "id": "V0GfDs7PRAJR"
      },
      "outputs": [],
      "source": [
        "import pandas as pd\n",
        "import numpy as np\n",
        "import matplotlib.pyplot as plt"
      ]
    },
    {
      "cell_type": "code",
      "source": [
        "df = pd.read_csv('/content/monthly-milk-production-pounds.csv',index_col='Month',parse_dates=True)"
      ],
      "metadata": {
        "id": "tpQ1Y_wJREDH"
      },
      "execution_count": 2,
      "outputs": []
    },
    {
      "cell_type": "code",
      "source": [
        "#Displaying month wise production data\n",
        "df.index.freq='MS'"
      ],
      "metadata": {
        "id": "M03ROsT8RIGS"
      },
      "execution_count": 3,
      "outputs": []
    },
    {
      "cell_type": "code",
      "source": [
        "df.head()"
      ],
      "metadata": {
        "colab": {
          "base_uri": "https://localhost:8080/",
          "height": 237
        },
        "id": "37GC1hmPRJBB",
        "outputId": "0938c20f-29ea-4cdb-8955-7bef922bbf8e"
      },
      "execution_count": 4,
      "outputs": [
        {
          "output_type": "execute_result",
          "data": {
            "text/plain": [
              "            Monthly milk production (pounds per cow)\n",
              "Month                                               \n",
              "1962-01-01                                       589\n",
              "1962-02-01                                       561\n",
              "1962-03-01                                       640\n",
              "1962-04-01                                       656\n",
              "1962-05-01                                       727"
            ],
            "text/html": [
              "\n",
              "  <div id=\"df-e1f09a92-3721-4da6-8e17-0cb560d41433\">\n",
              "    <div class=\"colab-df-container\">\n",
              "      <div>\n",
              "<style scoped>\n",
              "    .dataframe tbody tr th:only-of-type {\n",
              "        vertical-align: middle;\n",
              "    }\n",
              "\n",
              "    .dataframe tbody tr th {\n",
              "        vertical-align: top;\n",
              "    }\n",
              "\n",
              "    .dataframe thead th {\n",
              "        text-align: right;\n",
              "    }\n",
              "</style>\n",
              "<table border=\"1\" class=\"dataframe\">\n",
              "  <thead>\n",
              "    <tr style=\"text-align: right;\">\n",
              "      <th></th>\n",
              "      <th>Monthly milk production (pounds per cow)</th>\n",
              "    </tr>\n",
              "    <tr>\n",
              "      <th>Month</th>\n",
              "      <th></th>\n",
              "    </tr>\n",
              "  </thead>\n",
              "  <tbody>\n",
              "    <tr>\n",
              "      <th>1962-01-01</th>\n",
              "      <td>589</td>\n",
              "    </tr>\n",
              "    <tr>\n",
              "      <th>1962-02-01</th>\n",
              "      <td>561</td>\n",
              "    </tr>\n",
              "    <tr>\n",
              "      <th>1962-03-01</th>\n",
              "      <td>640</td>\n",
              "    </tr>\n",
              "    <tr>\n",
              "      <th>1962-04-01</th>\n",
              "      <td>656</td>\n",
              "    </tr>\n",
              "    <tr>\n",
              "      <th>1962-05-01</th>\n",
              "      <td>727</td>\n",
              "    </tr>\n",
              "  </tbody>\n",
              "</table>\n",
              "</div>\n",
              "      <button class=\"colab-df-convert\" onclick=\"convertToInteractive('df-e1f09a92-3721-4da6-8e17-0cb560d41433')\"\n",
              "              title=\"Convert this dataframe to an interactive table.\"\n",
              "              style=\"display:none;\">\n",
              "        \n",
              "  <svg xmlns=\"http://www.w3.org/2000/svg\" height=\"24px\"viewBox=\"0 0 24 24\"\n",
              "       width=\"24px\">\n",
              "    <path d=\"M0 0h24v24H0V0z\" fill=\"none\"/>\n",
              "    <path d=\"M18.56 5.44l.94 2.06.94-2.06 2.06-.94-2.06-.94-.94-2.06-.94 2.06-2.06.94zm-11 1L8.5 8.5l.94-2.06 2.06-.94-2.06-.94L8.5 2.5l-.94 2.06-2.06.94zm10 10l.94 2.06.94-2.06 2.06-.94-2.06-.94-.94-2.06-.94 2.06-2.06.94z\"/><path d=\"M17.41 7.96l-1.37-1.37c-.4-.4-.92-.59-1.43-.59-.52 0-1.04.2-1.43.59L10.3 9.45l-7.72 7.72c-.78.78-.78 2.05 0 2.83L4 21.41c.39.39.9.59 1.41.59.51 0 1.02-.2 1.41-.59l7.78-7.78 2.81-2.81c.8-.78.8-2.07 0-2.86zM5.41 20L4 18.59l7.72-7.72 1.47 1.35L5.41 20z\"/>\n",
              "  </svg>\n",
              "      </button>\n",
              "      \n",
              "  <style>\n",
              "    .colab-df-container {\n",
              "      display:flex;\n",
              "      flex-wrap:wrap;\n",
              "      gap: 12px;\n",
              "    }\n",
              "\n",
              "    .colab-df-convert {\n",
              "      background-color: #E8F0FE;\n",
              "      border: none;\n",
              "      border-radius: 50%;\n",
              "      cursor: pointer;\n",
              "      display: none;\n",
              "      fill: #1967D2;\n",
              "      height: 32px;\n",
              "      padding: 0 0 0 0;\n",
              "      width: 32px;\n",
              "    }\n",
              "\n",
              "    .colab-df-convert:hover {\n",
              "      background-color: #E2EBFA;\n",
              "      box-shadow: 0px 1px 2px rgba(60, 64, 67, 0.3), 0px 1px 3px 1px rgba(60, 64, 67, 0.15);\n",
              "      fill: #174EA6;\n",
              "    }\n",
              "\n",
              "    [theme=dark] .colab-df-convert {\n",
              "      background-color: #3B4455;\n",
              "      fill: #D2E3FC;\n",
              "    }\n",
              "\n",
              "    [theme=dark] .colab-df-convert:hover {\n",
              "      background-color: #434B5C;\n",
              "      box-shadow: 0px 1px 3px 1px rgba(0, 0, 0, 0.15);\n",
              "      filter: drop-shadow(0px 1px 2px rgba(0, 0, 0, 0.3));\n",
              "      fill: #FFFFFF;\n",
              "    }\n",
              "  </style>\n",
              "\n",
              "      <script>\n",
              "        const buttonEl =\n",
              "          document.querySelector('#df-e1f09a92-3721-4da6-8e17-0cb560d41433 button.colab-df-convert');\n",
              "        buttonEl.style.display =\n",
              "          google.colab.kernel.accessAllowed ? 'block' : 'none';\n",
              "\n",
              "        async function convertToInteractive(key) {\n",
              "          const element = document.querySelector('#df-e1f09a92-3721-4da6-8e17-0cb560d41433');\n",
              "          const dataTable =\n",
              "            await google.colab.kernel.invokeFunction('convertToInteractive',\n",
              "                                                     [key], {});\n",
              "          if (!dataTable) return;\n",
              "\n",
              "          const docLinkHtml = 'Like what you see? Visit the ' +\n",
              "            '<a target=\"_blank\" href=https://colab.research.google.com/notebooks/data_table.ipynb>data table notebook</a>'\n",
              "            + ' to learn more about interactive tables.';\n",
              "          element.innerHTML = '';\n",
              "          dataTable['output_type'] = 'display_data';\n",
              "          await google.colab.output.renderOutput(dataTable, element);\n",
              "          const docLink = document.createElement('div');\n",
              "          docLink.innerHTML = docLinkHtml;\n",
              "          element.appendChild(docLink);\n",
              "        }\n",
              "      </script>\n",
              "    </div>\n",
              "  </div>\n",
              "  "
            ]
          },
          "metadata": {},
          "execution_count": 4
        }
      ]
    },
    {
      "cell_type": "code",
      "source": [
        "#Displaying Data in Plot format\n",
        "df.plot(figsize=(15,8))"
      ],
      "metadata": {
        "colab": {
          "base_uri": "https://localhost:8080/",
          "height": 507
        },
        "id": "doLJiJnDRKK0",
        "outputId": "d9067102-ec9f-41b8-d5d1-b797ac07dcc4"
      },
      "execution_count": 5,
      "outputs": [
        {
          "output_type": "execute_result",
          "data": {
            "text/plain": [
              "<matplotlib.axes._subplots.AxesSubplot at 0x7fe50449d790>"
            ]
          },
          "metadata": {},
          "execution_count": 5
        },
        {
          "output_type": "display_data",
          "data": {
            "text/plain": [
              "<Figure size 1080x576 with 1 Axes>"
            ],
            "image/png": "[encoded data removed]"
          },
          "metadata": {
            "needs_background": "light"
          }
        }
      ]
    },
    {
      "cell_type": "code",
      "source": [
        "#provides classes and functions for the estimation of many different statistical models, as well as for conducting statistical tests, and statistical data exploration\n",
        "from statsmodels.tsa.seasonal import seasonal_decompose"
      ],
      "metadata": {
        "colab": {
          "base_uri": "https://localhost:8080/"
        },
        "id": "ks6quGkiRLko",
        "outputId": "dfcef8d7-d134-468c-9468-2c41f787efa1"
      },
      "execution_count": 6,
      "outputs": [
        {
          "output_type": "stream",
          "name": "stderr",
          "text": [
            "/usr/local/lib/python3.7/dist-packages/statsmodels/tools/_testing.py:19: FutureWarning: pandas.util.testing is deprecated. Use the functions in the public API at pandas.testing instead.\n",
            "  import pandas.util.testing as tm\n"
          ]
        }
      ]
    },
    {
      "cell_type": "code",
      "source": [
        "#will show seperate graph for trend of production, seasonal changes observered and overall obseravation(same as above graph)\n",
        "#The residual graph shows Overall - trend - seasonal, we can call it as noise and cannot we determined.\n",
        "results = seasonal_decompose(df['Monthly milk production (pounds per cow)'])"
      ],
      "metadata": {
        "id": "MHx_b4b7RMsp"
      },
      "execution_count": 7,
      "outputs": []
    },
    {
      "cell_type": "code",
      "source": [
        "results.plot();"
      ],
      "metadata": {
        "colab": {
          "base_uri": "https://localhost:8080/",
          "height": 297
        },
        "id": "Gchrm00RRMqS",
        "outputId": "4e69e69e-2a6b-400a-edbe-049cba7aecd5"
      },
      "execution_count": 8,
      "outputs": [
        {
          "output_type": "display_data",
          "data": {
            "text/plain": [
              "<Figure size 432x288 with 4 Axes>"
            ],
            "image/png": "[encoded data removed]"
          },
          "metadata": {
            "needs_background": "light"
          }
        }
      ]
    },
    {
      "cell_type": "code",
      "source": [
        "len(df)"
      ],
      "metadata": {
        "colab": {
          "base_uri": "https://localhost:8080/"
        },
        "id": "no0oN7YVRMni",
        "outputId": "beb48dc0-0fd8-4bcf-c08a-da48dff6a763"
      },
      "execution_count": 9,
      "outputs": [
        {
          "output_type": "execute_result",
          "data": {
            "text/plain": [
              "168"
            ]
          },
          "metadata": {},
          "execution_count": 9
        }
      ]
    },
    {
      "cell_type": "code",
      "source": [
        "train = df.iloc[:156]        # all data except the last 12 months data 168-12=156 to train the model.\n",
        "test = df.iloc[156:]         # Last 12 months data used as testing set."
      ],
      "metadata": {
        "id": "5mOmWRkfRRhJ"
      },
      "execution_count": 10,
      "outputs": []
    },
    {
      "cell_type": "markdown",
      "source": [
        "Using MinMaxScaler to convert all the data in the range of 0 to 1, this helps to reduce complexity of the raw data."
      ],
      "metadata": {
        "id": "2a_X0N5rRSxY"
      }
    },
    {
      "cell_type": "code",
      "source": [
        "from sklearn.preprocessing import MinMaxScaler\n",
        "scaler = MinMaxScaler()"
      ],
      "metadata": {
        "id": "OtTp7g_LRRek"
      },
      "execution_count": 11,
      "outputs": []
    },
    {
      "cell_type": "code",
      "source": [
        "#magnitude of the production values not in proper range\n",
        "df.head(),df.tail()"
      ],
      "metadata": {
        "colab": {
          "base_uri": "https://localhost:8080/"
        },
        "id": "f6W_84jgRRcI",
        "outputId": "f3496cce-cee2-4bc1-e1e2-3e40c2952ccc"
      },
      "execution_count": 12,
      "outputs": [
        {
          "output_type": "execute_result",
          "data": {
            "text/plain": [
              "(            Monthly milk production (pounds per cow)\n",
              " Month                                               \n",
              " 1962-01-01                                       589\n",
              " 1962-02-01                                       561\n",
              " 1962-03-01                                       640\n",
              " 1962-04-01                                       656\n",
              " 1962-05-01                                       727,\n",
              "             Monthly milk production (pounds per cow)\n",
              " Month                                               \n",
              " 1975-08-01                                       858\n",
              " 1975-09-01                                       817\n",
              " 1975-10-01                                       827\n",
              " 1975-11-01                                       797\n",
              " 1975-12-01                                       843)"
            ]
          },
          "metadata": {},
          "execution_count": 12
        }
      ]
    },
    {
      "cell_type": "code",
      "source": [
        "scaler.fit(train)\n",
        "scaled_train = scaler.transform(train)\n",
        "scaled_test = scaler.transform(test)"
      ],
      "metadata": {
        "id": "iaSnvqAtRXcJ"
      },
      "execution_count": 13,
      "outputs": []
    },
    {
      "cell_type": "code",
      "source": [
        "scaled_train[:10]"
      ],
      "metadata": {
        "colab": {
          "base_uri": "https://localhost:8080/"
        },
        "id": "u0U1qjNxRbSh",
        "outputId": "bb7bf0e5-a09d-48b9-a100-9b0b0d73797b"
      },
      "execution_count": 14,
      "outputs": [
        {
          "output_type": "execute_result",
          "data": {
            "text/plain": [
              "array([[0.08653846],\n",
              "       [0.01923077],\n",
              "       [0.20913462],\n",
              "       [0.24759615],\n",
              "       [0.41826923],\n",
              "       [0.34615385],\n",
              "       [0.20913462],\n",
              "       [0.11057692],\n",
              "       [0.03605769],\n",
              "       [0.05769231]])"
            ]
          },
          "metadata": {},
          "execution_count": 14
        }
      ]
    },
    {
      "cell_type": "markdown",
      "source": [
        "Using Supervised learning to predict new input"
      ],
      "metadata": {
        "id": "orG8nS_gRdrx"
      }
    },
    {
      "cell_type": "markdown",
      "source": [
        "example: input- [1,2,3] prediction- [4]\n",
        "\n"
      ],
      "metadata": {
        "id": "XHsFEl_kRdmn"
      }
    },
    {
      "cell_type": "markdown",
      "source": [
        "new input- [2,3,4] prediction- [5]\n",
        "\n"
      ],
      "metadata": {
        "id": "p9OjMwyFRhb-"
      }
    },
    {
      "cell_type": "markdown",
      "source": [
        "new input- [3,4,5] and the loop continues"
      ],
      "metadata": {
        "id": "QE_2b77ORjUc"
      }
    },
    {
      "cell_type": "code",
      "source": [
        "from keras.preprocessing.sequence import TimeseriesGenerator"
      ],
      "metadata": {
        "id": "iKm9dddSRk1A"
      },
      "execution_count": 15,
      "outputs": []
    },
    {
      "cell_type": "code",
      "source": [
        "# define generator\n",
        "n_input = 3\n",
        "n_features = 1\n",
        "generator = TimeseriesGenerator(scaled_train, scaled_train, length=n_input, batch_size=1)"
      ],
      "metadata": {
        "id": "m8NT063xRbQC"
      },
      "execution_count": 16,
      "outputs": []
    },
    {
      "cell_type": "code",
      "source": [
        "#predicting 4th output using first three inputs\n",
        "X,y = generator[0]\n",
        "print(f'Given the Array: \\n{X.flatten()}')\n",
        "print(f'Predict this y: \\n {y}')"
      ],
      "metadata": {
        "colab": {
          "base_uri": "https://localhost:8080/"
        },
        "id": "XIHYoRb2RbMq",
        "outputId": "04181740-9d70-4652-fca8-c8d9e818e22f"
      },
      "execution_count": 17,
      "outputs": [
        {
          "output_type": "stream",
          "name": "stdout",
          "text": [
            "Given the Array: \n",
            "[0.08653846 0.01923077 0.20913462]\n",
            "Predict this y: \n",
            " [[0.24759615]]\n"
          ]
        }
      ]
    },
    {
      "cell_type": "code",
      "source": [
        "#predicting 4th output using first three inputs\n",
        "X,y = generator[1]\n",
        "print(f'Given the Array: \\n{X.flatten()}')\n",
        "print(f'Predict this y: \\n {y}')"
      ],
      "metadata": {
        "colab": {
          "base_uri": "https://localhost:8080/"
        },
        "id": "z5BSPFqDRuf-",
        "outputId": "352bd4fb-e9fc-4ce2-9cdf-7c993625510c"
      },
      "execution_count": 18,
      "outputs": [
        {
          "output_type": "stream",
          "name": "stdout",
          "text": [
            "Given the Array: \n",
            "[0.01923077 0.20913462 0.24759615]\n",
            "Predict this y: \n",
            " [[0.41826923]]\n"
          ]
        }
      ]
    },
    {
      "cell_type": "code",
      "source": [
        "# 1 row 3 columns and 1 feature\n",
        "X.shape"
      ],
      "metadata": {
        "colab": {
          "base_uri": "https://localhost:8080/"
        },
        "id": "O-_cnE_5Ruah",
        "outputId": "c9faff41-edd0-4ead-c361-8c898d8a3594"
      },
      "execution_count": 19,
      "outputs": [
        {
          "output_type": "execute_result",
          "data": {
            "text/plain": [
              "(1, 3, 1)"
            ]
          },
          "metadata": {},
          "execution_count": 19
        }
      ]
    },
    {
      "cell_type": "code",
      "source": [
        "# We do the same thing, but now instead for 12 months\n",
        "n_input = 12\n",
        "generator = TimeseriesGenerator(scaled_train, scaled_train, length=n_input, batch_size=1)"
      ],
      "metadata": {
        "id": "P3i2BB62R3bc"
      },
      "execution_count": 20,
      "outputs": []
    },
    {
      "cell_type": "code",
      "source": [
        "from keras.models import Sequential\n",
        "from keras.layers import Dense\n",
        "from keras.layers import LSTM"
      ],
      "metadata": {
        "id": "T4_XOTwKR3Yc"
      },
      "execution_count": 21,
      "outputs": []
    },
    {
      "cell_type": "code",
      "source": [
        "# define model\n",
        "model = Sequential()   #layers are in sequence i.e one after the another\n",
        "model.add(LSTM(100, activation='relu', input_shape=(n_input, n_features)))   #100 neurons and ReLU activation function \n",
        "model.add(Dense(1))    #output layer\n",
        "model.compile(optimizer='adam', loss='mse')"
      ],
      "metadata": {
        "id": "__-0kB51R6GL"
      },
      "execution_count": 22,
      "outputs": []
    },
    {
      "cell_type": "code",
      "source": [
        "model.summary()"
      ],
      "metadata": {
        "colab": {
          "base_uri": "https://localhost:8080/"
        },
        "id": "8n6srbmsR59Y",
        "outputId": "c1bca5ec-0a0e-49fc-f1f3-7d8ff9590619"
      },
      "execution_count": 23,
      "outputs": [
        {
          "output_type": "stream",
          "name": "stdout",
          "text": [
            "Model: \"sequential\"\n",
            "_________________________________________________________________\n",
            " Layer (type)                Output Shape              Param #   \n",
            "=================================================================\n",
            " lstm (LSTM)                 (None, 100)               40800     \n",
            "                                                                 \n",
            " dense (Dense)               (None, 1)                 101       \n",
            "                                                                 \n",
            "=================================================================\n",
            "Total params: 40,901\n",
            "Trainable params: 40,901\n",
            "Non-trainable params: 0\n",
            "_________________________________________________________________\n"
          ]
        }
      ]
    },
    {
      "cell_type": "code",
      "source": [
        "# fit model\n",
        "model.fit(generator,epochs=50)  #generator creates batches of 3-3 inputs and using that predict the next value"
      ],
      "metadata": {
        "colab": {
          "base_uri": "https://localhost:8080/"
        },
        "id": "jJ4oG8tbR9tn",
        "outputId": "987a49d5-f8f1-4c96-e7c4-b55f58fac9ff"
      },
      "execution_count": 24,
      "outputs": [
        {
          "output_type": "stream",
          "name": "stdout",
          "text": [
            "Epoch 1/50\n",
            "144/144 [==============================] - 3s 7ms/step - loss: 0.0458\n",
            "Epoch 2/50\n",
            "144/144 [==============================] - 1s 7ms/step - loss: 0.0257\n",
            "Epoch 3/50\n",
            "144/144 [==============================] - 1s 7ms/step - loss: 0.0216\n",
            "Epoch 4/50\n",
            "144/144 [==============================] - 1s 6ms/step - loss: 0.0146\n",
            "Epoch 5/50\n",
            "144/144 [==============================] - 1s 7ms/step - loss: 0.0112\n",
            "Epoch 6/50\n",
            "144/144 [==============================] - 1s 7ms/step - loss: 0.0068\n",
            "Epoch 7/50\n",
            "144/144 [==============================] - 1s 6ms/step - loss: 0.0055\n",
            "Epoch 8/50\n",
            "144/144 [==============================] - 1s 6ms/step - loss: 0.0053\n",
            "Epoch 9/50\n",
            "144/144 [==============================] - 1s 7ms/step - loss: 0.0046\n",
            "Epoch 10/50\n",
            "144/144 [==============================] - 1s 7ms/step - loss: 0.0036\n",
            "Epoch 11/50\n",
            "144/144 [==============================] - 1s 7ms/step - loss: 0.0036\n",
            "Epoch 12/50\n",
            "144/144 [==============================] - 1s 7ms/step - loss: 0.0032\n",
            "Epoch 13/50\n",
            "144/144 [==============================] - 1s 7ms/step - loss: 0.0027\n",
            "Epoch 14/50\n",
            "144/144 [==============================] - 1s 7ms/step - loss: 0.0045\n",
            "Epoch 15/50\n",
            "144/144 [==============================] - 1s 7ms/step - loss: 0.0031\n",
            "Epoch 16/50\n",
            "144/144 [==============================] - 1s 7ms/step - loss: 0.0033\n",
            "Epoch 17/50\n",
            "144/144 [==============================] - 1s 7ms/step - loss: 0.0039\n",
            "Epoch 18/50\n",
            "144/144 [==============================] - 1s 7ms/step - loss: 0.0034\n",
            "Epoch 19/50\n",
            "144/144 [==============================] - 1s 7ms/step - loss: 0.0033\n",
            "Epoch 20/50\n",
            "144/144 [==============================] - 1s 7ms/step - loss: 0.0032\n",
            "Epoch 21/50\n",
            "144/144 [==============================] - 1s 7ms/step - loss: 0.0031\n",
            "Epoch 22/50\n",
            "144/144 [==============================] - 1s 7ms/step - loss: 0.0029\n",
            "Epoch 23/50\n",
            "144/144 [==============================] - 1s 7ms/step - loss: 0.0029\n",
            "Epoch 24/50\n",
            "144/144 [==============================] - 1s 7ms/step - loss: 0.0028\n",
            "Epoch 25/50\n",
            "144/144 [==============================] - 1s 7ms/step - loss: 0.0027\n",
            "Epoch 26/50\n",
            "144/144 [==============================] - 1s 7ms/step - loss: 0.0029\n",
            "Epoch 27/50\n",
            "144/144 [==============================] - 1s 7ms/step - loss: 0.0029\n",
            "Epoch 28/50\n",
            "144/144 [==============================] - 1s 7ms/step - loss: 0.0047\n",
            "Epoch 29/50\n",
            "144/144 [==============================] - 1s 7ms/step - loss: 0.0035\n",
            "Epoch 30/50\n",
            "144/144 [==============================] - 1s 8ms/step - loss: 0.0026\n",
            "Epoch 31/50\n",
            "144/144 [==============================] - 1s 7ms/step - loss: 0.0026\n",
            "Epoch 32/50\n",
            "144/144 [==============================] - 1s 7ms/step - loss: 0.0027\n",
            "Epoch 33/50\n",
            "144/144 [==============================] - 1s 7ms/step - loss: 0.0029\n",
            "Epoch 34/50\n",
            "144/144 [==============================] - 1s 7ms/step - loss: 0.0021\n",
            "Epoch 35/50\n",
            "144/144 [==============================] - 1s 7ms/step - loss: 0.0022\n",
            "Epoch 36/50\n",
            "144/144 [==============================] - 1s 7ms/step - loss: 0.0024\n",
            "Epoch 37/50\n",
            "144/144 [==============================] - 1s 7ms/step - loss: 0.0034\n",
            "Epoch 38/50\n",
            "144/144 [==============================] - 1s 8ms/step - loss: 0.0028\n",
            "Epoch 39/50\n",
            "144/144 [==============================] - 1s 7ms/step - loss: 0.0020\n",
            "Epoch 40/50\n",
            "144/144 [==============================] - 1s 7ms/step - loss: 0.0019\n",
            "Epoch 41/50\n",
            "144/144 [==============================] - 1s 7ms/step - loss: 0.0026\n",
            "Epoch 42/50\n",
            "144/144 [==============================] - 1s 8ms/step - loss: 0.0022\n",
            "Epoch 43/50\n",
            "144/144 [==============================] - 1s 8ms/step - loss: 0.0019\n",
            "Epoch 44/50\n",
            "144/144 [==============================] - 1s 7ms/step - loss: 0.0027\n",
            "Epoch 45/50\n",
            "144/144 [==============================] - 1s 7ms/step - loss: 0.0020\n",
            "Epoch 46/50\n",
            "144/144 [==============================] - 1s 8ms/step - loss: 0.0025\n",
            "Epoch 47/50\n",
            "144/144 [==============================] - 1s 7ms/step - loss: 0.0022\n",
            "Epoch 48/50\n",
            "144/144 [==============================] - 1s 8ms/step - loss: 0.0031\n",
            "Epoch 49/50\n",
            "144/144 [==============================] - 1s 7ms/step - loss: 0.0023\n",
            "Epoch 50/50\n",
            "144/144 [==============================] - 1s 7ms/step - loss: 0.0020\n"
          ]
        },
        {
          "output_type": "execute_result",
          "data": {
            "text/plain": [
              "<keras.callbacks.History at 0x7fe4a15be910>"
            ]
          },
          "metadata": {},
          "execution_count": 24
        }
      ]
    },
    {
      "cell_type": "code",
      "source": [
        "loss_per_epoch = model.history.history['loss']\n",
        "plt.plot(range(len(loss_per_epoch)),loss_per_epoch)\n",
        "#we can obsreve the decrease in loss fro the graph over 50 epoch"
      ],
      "metadata": {
        "colab": {
          "base_uri": "https://localhost:8080/",
          "height": 284
        },
        "id": "h1RATkK2R_jM",
        "outputId": "e42884fc-ec3b-4d94-acd9-8732bf285c0d"
      },
      "execution_count": 25,
      "outputs": [
        {
          "output_type": "execute_result",
          "data": {
            "text/plain": [
              "[<matplotlib.lines.Line2D at 0x7fe481b2f350>]"
            ]
          },
          "metadata": {},
          "execution_count": 25
        },
        {
          "output_type": "display_data",
          "data": {
            "text/plain": [
              "<Figure size 432x288 with 1 Axes>"
            ],
            "image/png": "[encoded data removed]"
          },
          "metadata": {
            "needs_background": "light"
          }
        }
      ]
    },
    {
      "cell_type": "code",
      "source": [
        "#taking last 12 months values in training set to make prediction for 1st value in test set\n",
        "last_train_batch = scaled_train[-12:]"
      ],
      "metadata": {
        "id": "SDPpRKlSSAnP"
      },
      "execution_count": 26,
      "outputs": []
    },
    {
      "cell_type": "code",
      "source": [
        "#reshaping data in 1, 3, 1 i.e 1, no. of input, no. of features\n",
        "last_train_batch = last_train_batch.reshape((1, n_input, n_features))"
      ],
      "metadata": {
        "id": "sg5H3D0dSBlp"
      },
      "execution_count": 27,
      "outputs": []
    },
    {
      "cell_type": "code",
      "source": [
        "model.predict(last_train_batch)"
      ],
      "metadata": {
        "colab": {
          "base_uri": "https://localhost:8080/"
        },
        "id": "QuHzNNLNSBi7",
        "outputId": "55a8001b-3270-4397-c926-83618d82d2b3"
      },
      "execution_count": 28,
      "outputs": [
        {
          "output_type": "execute_result",
          "data": {
            "text/plain": [
              "array([[0.63922083]], dtype=float32)"
            ]
          },
          "metadata": {},
          "execution_count": 28
        }
      ]
    },
    {
      "cell_type": "code",
      "source": [
        "scaled_test[0]     #original- 0.61  predicted- 0.67  difference is negligible"
      ],
      "metadata": {
        "colab": {
          "base_uri": "https://localhost:8080/"
        },
        "id": "jvcvFRPISBgW",
        "outputId": "386f9f4b-87c8-40c9-fe55-3bf332dab5bb"
      },
      "execution_count": 29,
      "outputs": [
        {
          "output_type": "execute_result",
          "data": {
            "text/plain": [
              "array([0.67548077])"
            ]
          },
          "metadata": {},
          "execution_count": 29
        }
      ]
    },
    {
      "cell_type": "code",
      "source": [
        "#empty list of test predictions\n",
        "test_predictions = []     \n",
        "first_eval_batch = scaled_train[-n_input:]      #last 12 values from the training set\n",
        "current_batch = first_eval_batch.reshape((1, n_input, n_features))   #reshaping this last 12 values\n",
        "\n",
        "for i in range(len(test)):\n",
        "    \n",
        "    # get the prediction value for the first batch\n",
        "    current_pred = model.predict(current_batch)[0]\n",
        "    \n",
        "    # append the prediction into the array\n",
        "    test_predictions.append(current_pred) \n",
        "    \n",
        "    # use the prediction to update the batch and remove the first value\n",
        "    current_batch = np.append(current_batch[:,1:,:],[[current_pred]],axis=1)"
      ],
      "metadata": {
        "id": "zNUJWgqWSGIn"
      },
      "execution_count": 30,
      "outputs": []
    },
    {
      "cell_type": "code",
      "source": [
        "test_predictions"
      ],
      "metadata": {
        "colab": {
          "base_uri": "https://localhost:8080/"
        },
        "id": "EBByV9gHSGGT",
        "outputId": "8a18afe3-aabd-4fb2-fd26-d472f3e7cf54"
      },
      "execution_count": 31,
      "outputs": [
        {
          "output_type": "execute_result",
          "data": {
            "text/plain": [
              "[array([0.63922083], dtype=float32),\n",
              " array([0.60217994], dtype=float32),\n",
              " array([0.7975276], dtype=float32),\n",
              " array([0.8648179], dtype=float32),\n",
              " array([0.9629977], dtype=float32),\n",
              " array([0.9539239], dtype=float32),\n",
              " array([0.8907117], dtype=float32),\n",
              " array([0.79315144], dtype=float32),\n",
              " array([0.6716144], dtype=float32),\n",
              " array([0.6297887], dtype=float32),\n",
              " array([0.57442784], dtype=float32),\n",
              " array([0.61293566], dtype=float32)]"
            ]
          },
          "metadata": {},
          "execution_count": 31
        }
      ]
    },
    {
      "cell_type": "code",
      "source": [
        "#changing back to original scale.\n",
        "test.head()"
      ],
      "metadata": {
        "colab": {
          "base_uri": "https://localhost:8080/",
          "height": 237
        },
        "id": "tb--7_9ESGDt",
        "outputId": "bc435b75-fc69-4ed4-d580-fe5765f0d357"
      },
      "execution_count": 32,
      "outputs": [
        {
          "output_type": "execute_result",
          "data": {
            "text/plain": [
              "            Monthly milk production (pounds per cow)\n",
              "Month                                               \n",
              "1975-01-01                                       834\n",
              "1975-02-01                                       782\n",
              "1975-03-01                                       892\n",
              "1975-04-01                                       903\n",
              "1975-05-01                                       966"
            ],
            "text/html": [
              "\n",
              "  <div id=\"df-74e4598a-b682-4aab-9dd1-d5691294812b\">\n",
              "    <div class=\"colab-df-container\">\n",
              "      <div>\n",
              "<style scoped>\n",
              "    .dataframe tbody tr th:only-of-type {\n",
              "        vertical-align: middle;\n",
              "    }\n",
              "\n",
              "    .dataframe tbody tr th {\n",
              "        vertical-align: top;\n",
              "    }\n",
              "\n",
              "    .dataframe thead th {\n",
              "        text-align: right;\n",
              "    }\n",
              "</style>\n",
              "<table border=\"1\" class=\"dataframe\">\n",
              "  <thead>\n",
              "    <tr style=\"text-align: right;\">\n",
              "      <th></th>\n",
              "      <th>Monthly milk production (pounds per cow)</th>\n",
              "    </tr>\n",
              "    <tr>\n",
              "      <th>Month</th>\n",
              "      <th></th>\n",
              "    </tr>\n",
              "  </thead>\n",
              "  <tbody>\n",
              "    <tr>\n",
              "      <th>1975-01-01</th>\n",
              "      <td>834</td>\n",
              "    </tr>\n",
              "    <tr>\n",
              "      <th>1975-02-01</th>\n",
              "      <td>782</td>\n",
              "    </tr>\n",
              "    <tr>\n",
              "      <th>1975-03-01</th>\n",
              "      <td>892</td>\n",
              "    </tr>\n",
              "    <tr>\n",
              "      <th>1975-04-01</th>\n",
              "      <td>903</td>\n",
              "    </tr>\n",
              "    <tr>\n",
              "      <th>1975-05-01</th>\n",
              "      <td>966</td>\n",
              "    </tr>\n",
              "  </tbody>\n",
              "</table>\n",
              "</div>\n",
              "      <button class=\"colab-df-convert\" onclick=\"convertToInteractive('df-74e4598a-b682-4aab-9dd1-d5691294812b')\"\n",
              "              title=\"Convert this dataframe to an interactive table.\"\n",
              "              style=\"display:none;\">\n",
              "        \n",
              "  <svg xmlns=\"http://www.w3.org/2000/svg\" height=\"24px\"viewBox=\"0 0 24 24\"\n",
              "       width=\"24px\">\n",
              "    <path d=\"M0 0h24v24H0V0z\" fill=\"none\"/>\n",
              "    <path d=\"M18.56 5.44l.94 2.06.94-2.06 2.06-.94-2.06-.94-.94-2.06-.94 2.06-2.06.94zm-11 1L8.5 8.5l.94-2.06 2.06-.94-2.06-.94L8.5 2.5l-.94 2.06-2.06.94zm10 10l.94 2.06.94-2.06 2.06-.94-2.06-.94-.94-2.06-.94 2.06-2.06.94z\"/><path d=\"M17.41 7.96l-1.37-1.37c-.4-.4-.92-.59-1.43-.59-.52 0-1.04.2-1.43.59L10.3 9.45l-7.72 7.72c-.78.78-.78 2.05 0 2.83L4 21.41c.39.39.9.59 1.41.59.51 0 1.02-.2 1.41-.59l7.78-7.78 2.81-2.81c.8-.78.8-2.07 0-2.86zM5.41 20L4 18.59l7.72-7.72 1.47 1.35L5.41 20z\"/>\n",
              "  </svg>\n",
              "      </button>\n",
              "      \n",
              "  <style>\n",
              "    .colab-df-container {\n",
              "      display:flex;\n",
              "      flex-wrap:wrap;\n",
              "      gap: 12px;\n",
              "    }\n",
              "\n",
              "    .colab-df-convert {\n",
              "      background-color: #E8F0FE;\n",
              "      border: none;\n",
              "      border-radius: 50%;\n",
              "      cursor: pointer;\n",
              "      display: none;\n",
              "      fill: #1967D2;\n",
              "      height: 32px;\n",
              "      padding: 0 0 0 0;\n",
              "      width: 32px;\n",
              "    }\n",
              "\n",
              "    .colab-df-convert:hover {\n",
              "      background-color: #E2EBFA;\n",
              "      box-shadow: 0px 1px 2px rgba(60, 64, 67, 0.3), 0px 1px 3px 1px rgba(60, 64, 67, 0.15);\n",
              "      fill: #174EA6;\n",
              "    }\n",
              "\n",
              "    [theme=dark] .colab-df-convert {\n",
              "      background-color: #3B4455;\n",
              "      fill: #D2E3FC;\n",
              "    }\n",
              "\n",
              "    [theme=dark] .colab-df-convert:hover {\n",
              "      background-color: #434B5C;\n",
              "      box-shadow: 0px 1px 3px 1px rgba(0, 0, 0, 0.15);\n",
              "      filter: drop-shadow(0px 1px 2px rgba(0, 0, 0, 0.3));\n",
              "      fill: #FFFFFF;\n",
              "    }\n",
              "  </style>\n",
              "\n",
              "      <script>\n",
              "        const buttonEl =\n",
              "          document.querySelector('#df-74e4598a-b682-4aab-9dd1-d5691294812b button.colab-df-convert');\n",
              "        buttonEl.style.display =\n",
              "          google.colab.kernel.accessAllowed ? 'block' : 'none';\n",
              "\n",
              "        async function convertToInteractive(key) {\n",
              "          const element = document.querySelector('#df-74e4598a-b682-4aab-9dd1-d5691294812b');\n",
              "          const dataTable =\n",
              "            await google.colab.kernel.invokeFunction('convertToInteractive',\n",
              "                                                     [key], {});\n",
              "          if (!dataTable) return;\n",
              "\n",
              "          const docLinkHtml = 'Like what you see? Visit the ' +\n",
              "            '<a target=\"_blank\" href=https://colab.research.google.com/notebooks/data_table.ipynb>data table notebook</a>'\n",
              "            + ' to learn more about interactive tables.';\n",
              "          element.innerHTML = '';\n",
              "          dataTable['output_type'] = 'display_data';\n",
              "          await google.colab.output.renderOutput(dataTable, element);\n",
              "          const docLink = document.createElement('div');\n",
              "          docLink.innerHTML = docLinkHtml;\n",
              "          element.appendChild(docLink);\n",
              "        }\n",
              "      </script>\n",
              "    </div>\n",
              "  </div>\n",
              "  "
            ]
          },
          "metadata": {},
          "execution_count": 32
        }
      ]
    },
    {
      "cell_type": "code",
      "source": [
        "true_predictions = scaler.inverse_transform(test_predictions)\n",
        "test['Predictions'] = true_predictions"
      ],
      "metadata": {
        "colab": {
          "base_uri": "https://localhost:8080/"
        },
        "id": "44PuNZ8ESJRn",
        "outputId": "e37d1587-3c1c-4e10-ec8f-ec360b763e53"
      },
      "execution_count": 33,
      "outputs": [
        {
          "output_type": "stream",
          "name": "stderr",
          "text": [
            "/usr/local/lib/python3.7/dist-packages/ipykernel_launcher.py:2: SettingWithCopyWarning: \n",
            "A value is trying to be set on a copy of a slice from a DataFrame.\n",
            "Try using .loc[row_indexer,col_indexer] = value instead\n",
            "\n",
            "See the caveats in the documentation: https://pandas.pydata.org/pandas-docs/stable/user_guide/indexing.html#returning-a-view-versus-a-copy\n",
            "  \n"
          ]
        }
      ]
    },
    {
      "cell_type": "code",
      "source": [
        "#Developed model is not 100% accurate, but is quite close \n",
        "test.plot(figsize=(15,8))"
      ],
      "metadata": {
        "colab": {
          "base_uri": "https://localhost:8080/",
          "height": 516
        },
        "id": "MUVR9q9dSL79",
        "outputId": "506c1c42-8a88-4bb3-c0db-d7bb06001954"
      },
      "execution_count": 37,
      "outputs": [
        {
          "output_type": "execute_result",
          "data": {
            "text/plain": [
              "<matplotlib.axes._subplots.AxesSubplot at 0x7fe483351dd0>"
            ]
          },
          "metadata": {},
          "execution_count": 37
        },
        {
          "output_type": "display_data",
          "data": {
            "text/plain": [
              "<Figure size 1080x576 with 1 Axes>"
            ],
            "image/png": "[encoded data removed]"
          },
          "metadata": {
            "needs_background": "light"
          }
        }
      ]
    },
    {
      "cell_type": "code",
      "source": [
        "from sklearn.metrics import mean_squared_error\n",
        "from math import sqrt\n",
        "rmse=sqrt(mean_squared_error(test['Monthly milk production (pounds per cow)'],test['Predictions']))\n",
        "print(rmse)\n",
        "#displays root mean square error."
      ],
      "metadata": {
        "colab": {
          "base_uri": "https://localhost:8080/"
        },
        "id": "wX7wA_suST90",
        "outputId": "7e1d7311-8679-48e6-b56d-6e621b638431"
      },
      "execution_count": 36,
      "outputs": [
        {
          "output_type": "stream",
          "name": "stdout",
          "text": [
            "18.640226919945654\n"
          ]
        }
      ]
    }
  ]
}